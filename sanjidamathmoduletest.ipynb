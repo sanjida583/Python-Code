{
  "nbformat": 4,
  "nbformat_minor": 0,
  "metadata": {
    "colab": {
      "provenance": [],
      "authorship_tag": "ABX9TyN7vAQT2sUbmpA/tncAn0Hi",
      "include_colab_link": true
    },
    "kernelspec": {
      "name": "python3",
      "display_name": "Python 3"
    },
    "language_info": {
      "name": "python"
    }
  },
  "cells": [
    {
      "cell_type": "markdown",
      "metadata": {
        "id": "view-in-github",
        "colab_type": "text"
      },
      "source": [
        "<a href=\"https://colab.research.google.com/github/sanjida583/Python-Code/blob/main/sanjidamathmoduletest.ipynb\" target=\"_parent\"><img src=\"https://colab.research.google.com/assets/colab-badge.svg\" alt=\"Open In Colab\"/></a>"
      ]
    },
    {
      "cell_type": "code",
      "source": [
        "import sys\n",
        "\n",
        "!wget https://raw.githubusercontent.com/sanjida583/Python-Code/refs/heads/main/SanjidaMathTest.py\n",
        "sys.path.append('/content')\n",
        "\n",
        "import SanjidaMathTest as mt\n",
        "\n",
        "n = int(input(\"Enter digit:\"))\n",
        "\n",
        "print(mt.print_pi_to_n_digits(n))"
      ],
      "metadata": {
        "colab": {
          "base_uri": "https://localhost:8080/"
        },
        "id": "IqAJb6s3GuNC",
        "outputId": "38ed8ab2-2bde-40e0-b6c6-f88f582ee1fd"
      },
      "execution_count": null,
      "outputs": [
        {
          "output_type": "stream",
          "name": "stdout",
          "text": [
            "--2024-11-07 17:11:36--  https://raw.githubusercontent.com/sanjida583/Python-Code/refs/heads/main/SanjidaMathTest.py\n",
            "Resolving raw.githubusercontent.com (raw.githubusercontent.com)... 185.199.108.133, 185.199.111.133, 185.199.110.133, ...\n",
            "Connecting to raw.githubusercontent.com (raw.githubusercontent.com)|185.199.108.133|:443... connected.\n",
            "HTTP request sent, awaiting response... 200 OK\n",
            "Length: 252 [text/plain]\n",
            "Saving to: ‘SanjidaMathTest.py’\n",
            "\n",
            "\rSanjidaMathTest.py    0%[                    ]       0  --.-KB/s               \rSanjidaMathTest.py  100%[===================>]     252  --.-KB/s    in 0s      \n",
            "\n",
            "2024-11-07 17:11:36 (3.56 MB/s) - ‘SanjidaMathTest.py’ saved [252/252]\n",
            "\n",
            "Enter digit:10\n",
            "3.1415926536\n"
          ]
        }
      ]
    }
  ]
}